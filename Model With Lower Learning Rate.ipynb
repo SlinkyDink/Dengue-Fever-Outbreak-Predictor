{
 "cells": [
  {
   "cell_type": "markdown",
   "metadata": {},
   "source": [
    "Machine Learning Model for Dengue Fever in San Juan and Iquitos\n",
    "----"
   ]
  },
  {
   "cell_type": "code",
   "execution_count": 2,
   "metadata": {
    "collapsed": true
   },
   "outputs": [],
   "source": [
    "%matplotlib inline\n",
    "import pandas as pd\n",
    "import numpy as np\n",
    "import tensorflow as tf\n",
    "from matplotlib import pyplot as plt\n",
    "from sklearn.model_selection import train_test_split\n",
    "from sklearn.metrics import mean_absolute_error\n",
    "from dengai import data_util\n",
    "from dengai import multi_perceptron"
   ]
  },
  {
   "cell_type": "markdown",
   "metadata": {},
   "source": [
    "Preprocess Data\n",
    "----"
   ]
  },
  {
   "cell_type": "code",
   "execution_count": 3,
   "metadata": {
    "collapsed": true
   },
   "outputs": [],
   "source": [
    "sj, iq = data_util.get_train_feature_label()\n",
    "\n",
    "sj_features = sj.drop([\"total_cases\"], axis=1)\n",
    "sj_labels = sj[[\"total_cases\"]]\n",
    "\n",
    "iq_features = iq.drop([\"total_cases\"], axis=1)\n",
    "iq_labels = iq[[\"total_cases\"]]\n"
   ]
  },
  {
   "cell_type": "markdown",
   "metadata": {},
   "source": [
    "Split Testing Data and Randomize\n",
    "----"
   ]
  },
  {
   "cell_type": "code",
   "execution_count": 4,
   "metadata": {
    "collapsed": true
   },
   "outputs": [],
   "source": [
    "# Split data intro training and testing sets\n",
    "sj_x_train, sj_x_test, sj_y_train, sj_y_test = train_test_split(sj_features, \n",
    "                                                                sj_labels, \n",
    "                                                                test_size=0.33, \n",
    "                                                                random_state=42)\n",
    "\n",
    "iq_x_train, iq_x_test, iq_y_train, iq_y_test = train_test_split(iq_features, \n",
    "                                                                iq_labels, \n",
    "                                                                test_size=0.33, \n",
    "                                                                random_state=42)"
   ]
  },
  {
   "cell_type": "markdown",
   "metadata": {},
   "source": [
    "Model Training for San Juan\n",
    "----"
   ]
  },
  {
   "cell_type": "code",
   "execution_count": 5,
   "metadata": {
    "collapsed": true
   },
   "outputs": [],
   "source": [
    "# Add 2 hidden layers, each with 256 nodes\n",
    "sj_x_size = sj_x_train.shape[1] # Number of input nodes\n",
    "sj_h1_size = 256 # Number of hidden nodes for l1\n",
    "sj_h2_size = 256 # Number of hidden nodes for l2\n",
    "sj_y_size = sj_y_train.shape[1] # Number of outcomes \n",
    "\n",
    "sj_x = tf.placeholder(\"float32\", [None, sj_x_size])\n",
    "sj_y = tf.placeholder(\"float32\", [None, sj_y_size])\n",
    "sj_keep_prob = tf.placeholder(tf.float32)\n",
    "                                \n",
    "#l1 = multi_perceptron.add_layer(x, in_size=x_size, out_size=h1_size, activation_function=tf.nn.relu)\n",
    "#predict = multi_perceptron.add_layer(l1, in_size=h1_size, out_size=y_size, activation_function=None)\n",
    " \n",
    "# Weight initializations\n",
    "sj_w_1 = multi_perceptron.init_weights((sj_x_size, sj_h1_size))\n",
    "sj_w_2 = multi_perceptron.init_weights((sj_h1_size, sj_h2_size))\n",
    "sj_w_3 = multi_perceptron.init_weights((sj_h2_size, sj_y_size))\n",
    "\n",
    "sj_predict = multi_perceptron.forwardprop(sj_x, sj_w_1, sj_w_2, sj_w_3, sj_keep_prob)\n",
    "    "
   ]
  },
  {
   "cell_type": "code",
   "execution_count": 16,
   "metadata": {},
   "outputs": [],
   "source": [
    "# Backwards Propogation\n",
    "sj_cost = tf.reduce_mean(tf.reduce_sum(tf.square(sj_y-sj_predict),reduction_indices=[1]))\n",
    "sj_updates = tf.train.GradientDescentOptimizer(0.00001).minimize(sj_cost)"
   ]
  },
  {
   "cell_type": "code",
   "execution_count": 7,
   "metadata": {
    "collapsed": true
   },
   "outputs": [],
   "source": [
    "sj_init = tf.global_variables_initializer()\n",
    "sj_sess = tf.Session()\n",
    "sj_sess.run(sj_init)"
   ]
  },
  {
   "cell_type": "code",
   "execution_count": 17,
   "metadata": {
    "scrolled": false
   },
   "outputs": [
    {
     "name": "stdout",
     "output_type": "stream",
     "text": [
      "Epoch = 1, train error = 49.10, test error = 48.81\n",
      "Epoch = 2, train error = 49.74, test error = 49.47\n",
      "Epoch = 3, train error = 50.14, test error = 49.89\n",
      "Epoch = 4, train error = 49.71, test error = 49.45\n",
      "Epoch = 5, train error = 49.83, test error = 49.57\n",
      "Epoch = 6, train error = 49.91, test error = 49.66\n",
      "Epoch = 7, train error = 49.96, test error = 49.71\n",
      "Epoch = 8, train error = 50.34, test error = 50.11\n",
      "Epoch = 9, train error = 50.37, test error = 50.14\n",
      "Epoch = 10, train error = 50.64, test error = 50.41\n",
      "Epoch = 11, train error = 50.65, test error = 50.43\n",
      "Epoch = 12, train error = 50.63, test error = 50.41\n",
      "Epoch = 13, train error = 50.19, test error = 49.95\n",
      "Epoch = 14, train error = 49.95, test error = 49.70\n",
      "Epoch = 15, train error = 49.92, test error = 49.67\n",
      "Epoch = 16, train error = 50.46, test error = 50.23\n",
      "Epoch = 17, train error = 50.45, test error = 50.22\n",
      "Epoch = 18, train error = 50.27, test error = 50.03\n",
      "Epoch = 19, train error = 50.05, test error = 49.80\n",
      "Epoch = 20, train error = 50.09, test error = 49.84\n"
     ]
    }
   ],
   "source": [
    "for epoch in range(20):\n",
    "        # Train with each example\n",
    "        for i in range(len(sj_x_train)):\n",
    "            sj_sess.run(sj_updates, feed_dict={sj_x: sj_x_train[i: i + 1], sj_y: sj_y_train[i: i + 1], sj_keep_prob:0.5})\n",
    "\n",
    "        train_error = mean_absolute_error(sj_y_train, sj_sess.run(sj_predict, feed_dict={sj_x: sj_x_train, sj_keep_prob:1}))\n",
    "        test_error  = mean_absolute_error(sj_y_test, sj_sess.run(sj_predict, feed_dict={sj_x: sj_x_test, sj_keep_prob:1}))\n",
    "\n",
    "        print(\"Epoch = %d, train error = %.2f, test error = %.2f\"\n",
    "              % (epoch + 1, train_error, test_error))"
   ]
  },
  {
   "cell_type": "markdown",
   "metadata": {},
   "source": [
    "Model Training for Iquitos\n",
    "---"
   ]
  },
  {
   "cell_type": "code",
   "execution_count": 24,
   "metadata": {
    "collapsed": true
   },
   "outputs": [],
   "source": [
    "# Add 2 hidden layers, each with 256 nodes\n",
    "iq_x_size = iq_x_train.shape[1] # Number of input nodes\n",
    "iq_h1_size = 256 # Number of hidden nodes for l1\n",
    "iq_h2_size = 256 # Number of hidden nodes for l2\n",
    "iq_y_size = iq_y_train.shape[1] # Number of outcomes \n",
    "\n",
    "iq_x = tf.placeholder(\"float32\", [None, iq_x_size])\n",
    "iq_y = tf.placeholder(\"float32\", [None, iq_y_size])\n",
    "iq_keep_prob = tf.placeholder(tf.float32)\n",
    "                                \n",
    "#l1 = multi_perceptron.add_layer(x, in_size=x_size, out_size=h1_size, activation_function=tf.nn.relu)\n",
    "#predict = multi_perceptron.add_layer(l1, in_size=h1_size, out_size=y_size, activation_function=None)\n",
    " \n",
    "# Weight initializations\n",
    "iq_w_1 = multi_perceptron.init_weights((iq_x_size, iq_h1_size))\n",
    "iq_w_2 = multi_perceptron.init_weights((iq_h1_size, iq_h2_size))\n",
    "iq_w_3 = multi_perceptron.init_weights((iq_h2_size, iq_y_size))\n",
    "\n",
    "iq_predict = multi_perceptron.forwardprop(iq_x, iq_w_1, iq_w_2, iq_w_3, iq_keep_prob)\n",
    "    "
   ]
  },
  {
   "cell_type": "code",
   "execution_count": 25,
   "metadata": {
    "collapsed": true
   },
   "outputs": [],
   "source": [
    "# Backwards Propogation\n",
    "iq_cost = tf.reduce_mean(tf.reduce_sum(tf.square(iq_y-iq_predict),reduction_indices=[1]))\n",
    "iq_updates = tf.train.GradientDescentOptimizer(0.0000001).minimize(iq_cost)"
   ]
  },
  {
   "cell_type": "code",
   "execution_count": 26,
   "metadata": {
    "collapsed": true
   },
   "outputs": [],
   "source": [
    "iq_init = tf.global_variables_initializer()\n",
    "iq_sess = tf.Session()\n",
    "iq_sess.run(iq_init)"
   ]
  },
  {
   "cell_type": "code",
   "execution_count": 27,
   "metadata": {},
   "outputs": [
    {
     "name": "stdout",
     "output_type": "stream",
     "text": [
      "Epoch = 1, train error = 7.49, test error = 6.98\n",
      "Epoch = 2, train error = 7.41, test error = 6.91\n",
      "Epoch = 3, train error = 7.34, test error = 6.86\n",
      "Epoch = 4, train error = 7.30, test error = 6.81\n",
      "Epoch = 5, train error = 7.27, test error = 6.79\n",
      "Epoch = 6, train error = 7.24, test error = 6.77\n",
      "Epoch = 7, train error = 7.22, test error = 6.75\n",
      "Epoch = 8, train error = 7.20, test error = 6.73\n",
      "Epoch = 9, train error = 7.19, test error = 6.73\n",
      "Epoch = 10, train error = 7.19, test error = 6.72\n",
      "Epoch = 11, train error = 7.18, test error = 6.71\n",
      "Epoch = 12, train error = 7.17, test error = 6.70\n",
      "Epoch = 13, train error = 7.15, test error = 6.69\n",
      "Epoch = 14, train error = 7.15, test error = 6.69\n"
     ]
    },
    {
     "ename": "KeyboardInterrupt",
     "evalue": "",
     "output_type": "error",
     "traceback": [
      "\u001b[0;31m---------------------------------------------------------------------------\u001b[0m",
      "\u001b[0;31mKeyboardInterrupt\u001b[0m                         Traceback (most recent call last)",
      "\u001b[0;32m<ipython-input-27-13e5d78f8f7a>\u001b[0m in \u001b[0;36m<module>\u001b[0;34m()\u001b[0m\n\u001b[1;32m      2\u001b[0m         \u001b[0;31m# Train with each example\u001b[0m\u001b[0;34m\u001b[0m\u001b[0;34m\u001b[0m\u001b[0m\n\u001b[1;32m      3\u001b[0m         \u001b[0;32mfor\u001b[0m \u001b[0mi\u001b[0m \u001b[0;32min\u001b[0m \u001b[0mrange\u001b[0m\u001b[0;34m(\u001b[0m\u001b[0mlen\u001b[0m\u001b[0;34m(\u001b[0m\u001b[0miq_x_train\u001b[0m\u001b[0;34m)\u001b[0m\u001b[0;34m)\u001b[0m\u001b[0;34m:\u001b[0m\u001b[0;34m\u001b[0m\u001b[0m\n\u001b[0;32m----> 4\u001b[0;31m             \u001b[0miq_sess\u001b[0m\u001b[0;34m.\u001b[0m\u001b[0mrun\u001b[0m\u001b[0;34m(\u001b[0m\u001b[0miq_updates\u001b[0m\u001b[0;34m,\u001b[0m \u001b[0mfeed_dict\u001b[0m\u001b[0;34m=\u001b[0m\u001b[0;34m{\u001b[0m\u001b[0miq_x\u001b[0m\u001b[0;34m:\u001b[0m \u001b[0miq_x_train\u001b[0m\u001b[0;34m[\u001b[0m\u001b[0mi\u001b[0m\u001b[0;34m:\u001b[0m \u001b[0mi\u001b[0m \u001b[0;34m+\u001b[0m \u001b[0;36m1\u001b[0m\u001b[0;34m]\u001b[0m\u001b[0;34m,\u001b[0m \u001b[0miq_y\u001b[0m\u001b[0;34m:\u001b[0m \u001b[0miq_y_train\u001b[0m\u001b[0;34m[\u001b[0m\u001b[0mi\u001b[0m\u001b[0;34m:\u001b[0m \u001b[0mi\u001b[0m \u001b[0;34m+\u001b[0m \u001b[0;36m1\u001b[0m\u001b[0;34m]\u001b[0m\u001b[0;34m,\u001b[0m \u001b[0miq_keep_prob\u001b[0m\u001b[0;34m:\u001b[0m\u001b[0;36m0.5\u001b[0m\u001b[0;34m}\u001b[0m\u001b[0;34m)\u001b[0m\u001b[0;34m\u001b[0m\u001b[0m\n\u001b[0m\u001b[1;32m      5\u001b[0m \u001b[0;34m\u001b[0m\u001b[0m\n\u001b[1;32m      6\u001b[0m         \u001b[0mtrain_error\u001b[0m \u001b[0;34m=\u001b[0m \u001b[0mmean_absolute_error\u001b[0m\u001b[0;34m(\u001b[0m\u001b[0miq_y_train\u001b[0m\u001b[0;34m,\u001b[0m \u001b[0miq_sess\u001b[0m\u001b[0;34m.\u001b[0m\u001b[0mrun\u001b[0m\u001b[0;34m(\u001b[0m\u001b[0miq_predict\u001b[0m\u001b[0;34m,\u001b[0m \u001b[0mfeed_dict\u001b[0m\u001b[0;34m=\u001b[0m\u001b[0;34m{\u001b[0m\u001b[0miq_x\u001b[0m\u001b[0;34m:\u001b[0m \u001b[0miq_x_train\u001b[0m\u001b[0;34m,\u001b[0m \u001b[0miq_keep_prob\u001b[0m\u001b[0;34m:\u001b[0m\u001b[0;36m1\u001b[0m\u001b[0;34m}\u001b[0m\u001b[0;34m)\u001b[0m\u001b[0;34m)\u001b[0m\u001b[0;34m\u001b[0m\u001b[0m\n",
      "\u001b[0;32m/Library/Frameworks/Python.framework/Versions/3.6/lib/python3.6/site-packages/tensorflow/python/client/session.py\u001b[0m in \u001b[0;36mrun\u001b[0;34m(self, fetches, feed_dict, options, run_metadata)\u001b[0m\n\u001b[1;32m    776\u001b[0m     \u001b[0;32mtry\u001b[0m\u001b[0;34m:\u001b[0m\u001b[0;34m\u001b[0m\u001b[0m\n\u001b[1;32m    777\u001b[0m       result = self._run(None, fetches, feed_dict, options_ptr,\n\u001b[0;32m--> 778\u001b[0;31m                          run_metadata_ptr)\n\u001b[0m\u001b[1;32m    779\u001b[0m       \u001b[0;32mif\u001b[0m \u001b[0mrun_metadata\u001b[0m\u001b[0;34m:\u001b[0m\u001b[0;34m\u001b[0m\u001b[0m\n\u001b[1;32m    780\u001b[0m         \u001b[0mproto_data\u001b[0m \u001b[0;34m=\u001b[0m \u001b[0mtf_session\u001b[0m\u001b[0;34m.\u001b[0m\u001b[0mTF_GetBuffer\u001b[0m\u001b[0;34m(\u001b[0m\u001b[0mrun_metadata_ptr\u001b[0m\u001b[0;34m)\u001b[0m\u001b[0;34m\u001b[0m\u001b[0m\n",
      "\u001b[0;32m/Library/Frameworks/Python.framework/Versions/3.6/lib/python3.6/site-packages/tensorflow/python/client/session.py\u001b[0m in \u001b[0;36m_run\u001b[0;34m(self, handle, fetches, feed_dict, options, run_metadata)\u001b[0m\n\u001b[1;32m    967\u001b[0m \u001b[0;34m\u001b[0m\u001b[0m\n\u001b[1;32m    968\u001b[0m     \u001b[0;31m# Create a fetch handler to take care of the structure of fetches.\u001b[0m\u001b[0;34m\u001b[0m\u001b[0;34m\u001b[0m\u001b[0m\n\u001b[0;32m--> 969\u001b[0;31m     \u001b[0mfetch_handler\u001b[0m \u001b[0;34m=\u001b[0m \u001b[0m_FetchHandler\u001b[0m\u001b[0;34m(\u001b[0m\u001b[0mself\u001b[0m\u001b[0;34m.\u001b[0m\u001b[0m_graph\u001b[0m\u001b[0;34m,\u001b[0m \u001b[0mfetches\u001b[0m\u001b[0;34m,\u001b[0m \u001b[0mfeed_dict_string\u001b[0m\u001b[0;34m)\u001b[0m\u001b[0;34m\u001b[0m\u001b[0m\n\u001b[0m\u001b[1;32m    970\u001b[0m \u001b[0;34m\u001b[0m\u001b[0m\n\u001b[1;32m    971\u001b[0m     \u001b[0;31m# Run request and get response.\u001b[0m\u001b[0;34m\u001b[0m\u001b[0;34m\u001b[0m\u001b[0m\n",
      "\u001b[0;32m/Library/Frameworks/Python.framework/Versions/3.6/lib/python3.6/site-packages/tensorflow/python/client/session.py\u001b[0m in \u001b[0;36m__init__\u001b[0;34m(self, graph, fetches, feeds)\u001b[0m\n\u001b[1;32m    406\u001b[0m     \"\"\"\n\u001b[1;32m    407\u001b[0m     \u001b[0;32mwith\u001b[0m \u001b[0mgraph\u001b[0m\u001b[0;34m.\u001b[0m\u001b[0mas_default\u001b[0m\u001b[0;34m(\u001b[0m\u001b[0;34m)\u001b[0m\u001b[0;34m:\u001b[0m\u001b[0;34m\u001b[0m\u001b[0m\n\u001b[0;32m--> 408\u001b[0;31m       \u001b[0mself\u001b[0m\u001b[0;34m.\u001b[0m\u001b[0m_fetch_mapper\u001b[0m \u001b[0;34m=\u001b[0m \u001b[0m_FetchMapper\u001b[0m\u001b[0;34m.\u001b[0m\u001b[0mfor_fetch\u001b[0m\u001b[0;34m(\u001b[0m\u001b[0mfetches\u001b[0m\u001b[0;34m)\u001b[0m\u001b[0;34m\u001b[0m\u001b[0m\n\u001b[0m\u001b[1;32m    409\u001b[0m     \u001b[0mself\u001b[0m\u001b[0;34m.\u001b[0m\u001b[0m_fetches\u001b[0m \u001b[0;34m=\u001b[0m \u001b[0;34m[\u001b[0m\u001b[0;34m]\u001b[0m\u001b[0;34m\u001b[0m\u001b[0m\n\u001b[1;32m    410\u001b[0m     \u001b[0mself\u001b[0m\u001b[0;34m.\u001b[0m\u001b[0m_targets\u001b[0m \u001b[0;34m=\u001b[0m \u001b[0;34m[\u001b[0m\u001b[0;34m]\u001b[0m\u001b[0;34m\u001b[0m\u001b[0m\n",
      "\u001b[0;32m/Library/Frameworks/Python.framework/Versions/3.6/lib/python3.6/contextlib.py\u001b[0m in \u001b[0;36m__exit__\u001b[0;34m(self, type, value, traceback)\u001b[0m\n\u001b[1;32m     87\u001b[0m         \u001b[0;32mif\u001b[0m \u001b[0mtype\u001b[0m \u001b[0;32mis\u001b[0m \u001b[0;32mNone\u001b[0m\u001b[0;34m:\u001b[0m\u001b[0;34m\u001b[0m\u001b[0m\n\u001b[1;32m     88\u001b[0m             \u001b[0;32mtry\u001b[0m\u001b[0;34m:\u001b[0m\u001b[0;34m\u001b[0m\u001b[0m\n\u001b[0;32m---> 89\u001b[0;31m                 \u001b[0mnext\u001b[0m\u001b[0;34m(\u001b[0m\u001b[0mself\u001b[0m\u001b[0;34m.\u001b[0m\u001b[0mgen\u001b[0m\u001b[0;34m)\u001b[0m\u001b[0;34m\u001b[0m\u001b[0m\n\u001b[0m\u001b[1;32m     90\u001b[0m             \u001b[0;32mexcept\u001b[0m \u001b[0mStopIteration\u001b[0m\u001b[0;34m:\u001b[0m\u001b[0;34m\u001b[0m\u001b[0m\n\u001b[1;32m     91\u001b[0m                 \u001b[0;32mreturn\u001b[0m\u001b[0;34m\u001b[0m\u001b[0m\n",
      "\u001b[0;32m/Library/Frameworks/Python.framework/Versions/3.6/lib/python3.6/site-packages/tensorflow/python/framework/ops.py\u001b[0m in \u001b[0;36mget_controller\u001b[0;34m(self, default)\u001b[0m\n\u001b[1;32m   3623\u001b[0m     \u001b[0;32mtry\u001b[0m\u001b[0;34m:\u001b[0m\u001b[0;34m\u001b[0m\u001b[0m\n\u001b[1;32m   3624\u001b[0m       \u001b[0mself\u001b[0m\u001b[0;34m.\u001b[0m\u001b[0mstack\u001b[0m\u001b[0;34m.\u001b[0m\u001b[0mappend\u001b[0m\u001b[0;34m(\u001b[0m\u001b[0mdefault\u001b[0m\u001b[0;34m)\u001b[0m\u001b[0;34m\u001b[0m\u001b[0m\n\u001b[0;32m-> 3625\u001b[0;31m       \u001b[0;32myield\u001b[0m \u001b[0mdefault\u001b[0m\u001b[0;34m\u001b[0m\u001b[0m\n\u001b[0m\u001b[1;32m   3626\u001b[0m     \u001b[0;32mfinally\u001b[0m\u001b[0;34m:\u001b[0m\u001b[0;34m\u001b[0m\u001b[0m\n\u001b[1;32m   3627\u001b[0m       \u001b[0;32mif\u001b[0m \u001b[0mself\u001b[0m\u001b[0;34m.\u001b[0m\u001b[0m_enforce_nesting\u001b[0m\u001b[0;34m:\u001b[0m\u001b[0;34m\u001b[0m\u001b[0m\n",
      "\u001b[0;31mKeyboardInterrupt\u001b[0m: "
     ]
    }
   ],
   "source": [
    "for epoch in range(150):\n",
    "        # Train with each example\n",
    "        for i in range(len(iq_x_train)):\n",
    "            iq_sess.run(iq_updates, feed_dict={iq_x: iq_x_train[i: i + 1], iq_y: iq_y_train[i: i + 1], iq_keep_prob:0.5})\n",
    "\n",
    "        train_error = mean_absolute_error(iq_y_train, iq_sess.run(iq_predict, feed_dict={iq_x: iq_x_train, iq_keep_prob:1}))\n",
    "        test_error  = mean_absolute_error(iq_y_test, iq_sess.run(iq_predict, feed_dict={iq_x: iq_x_test, iq_keep_prob:1}))\n",
    "\n",
    "        print(\"Epoch = %d, train error = %.2f, test error = %.2f\"\n",
    "              % (epoch + 1, train_error, test_error))"
   ]
  },
  {
   "cell_type": "markdown",
   "metadata": {},
   "source": [
    "Predictions for Iquitos and San Juan\n",
    "---"
   ]
  },
  {
   "cell_type": "code",
   "execution_count": 18,
   "metadata": {},
   "outputs": [
    {
     "name": "stderr",
     "output_type": "stream",
     "text": [
      "/Library/Frameworks/Python.framework/Versions/3.6/lib/python3.6/site-packages/pandas/core/frame.py:2852: SettingWithCopyWarning: \n",
      "A value is trying to be set on a copy of a slice from a DataFrame\n",
      "\n",
      "See the caveats in the documentation: http://pandas.pydata.org/pandas-docs/stable/indexing.html#indexing-view-versus-copy\n",
      "  downcast=downcast, **kwargs)\n"
     ]
    }
   ],
   "source": [
    "sj_subm_test = data_util.preprocess_data(isTest=True, isSJ=True)\n",
    "\n",
    "\n",
    "final_sj_predict = sj_sess.run(sj_predict, feed_dict={sj_x: sj_subm_test, sj_keep_prob:1})"
   ]
  },
  {
   "cell_type": "code",
   "execution_count": null,
   "metadata": {
    "collapsed": true,
    "scrolled": true
   },
   "outputs": [],
   "source": [
    "iq_subm_test = data_util.preprocess_data(isTest=True, isSJ=False)\n",
    "final_iq_predict = iq_sess.run(iq_predict, feed_dict={iq_x: iq_subm_test, iq_keep_prob:1})"
   ]
  },
  {
   "cell_type": "code",
   "execution_count": 27,
   "metadata": {},
   "outputs": [
    {
     "name": "stdout",
     "output_type": "stream",
     "text": [
      "Should enter 416 predictions\n",
      "Entered 416 predictions\n"
     ]
    }
   ],
   "source": [
    "data_util.write_submission_file(final_sj_predict,final_iq_predict)"
   ]
  },
  {
   "cell_type": "markdown",
   "metadata": {},
   "source": [
    "Plot Predicted vs Actual for Training Data\n",
    "---"
   ]
  },
  {
   "cell_type": "code",
   "execution_count": 19,
   "metadata": {
    "collapsed": true
   },
   "outputs": [],
   "source": [
    "# Get time data for San Juan and Iquitos based off of their size\n",
    "sj_time = np.array(range(sj_features.shape[0]))\n",
    "iq_time = np.array(range(iq_features.shape[0]))"
   ]
  },
  {
   "cell_type": "code",
   "execution_count": 20,
   "metadata": {
    "scrolled": true
   },
   "outputs": [
    {
     "data": {
      "text/plain": [
       "<matplotlib.legend.Legend at 0x113e84940>"
      ]
     },
     "execution_count": 20,
     "metadata": {},
     "output_type": "execute_result"
    },
    {
     "data": {
      "image/png": "[encoded data removed]",
      "text/plain": [
       "<matplotlib.figure.Figure at 0x112d9a978>"
      ]
     },
     "metadata": {},
     "output_type": "display_data"
    }
   ],
   "source": [
    "fig1, ax1 = plt.subplots()\n",
    "\n",
    "plt.plot(sj_time, sj_sess.run(sj_predict, feed_dict={sj_x: sj_features, sj_keep_prob:1}), label=\"Predicted\")\n",
    "plt.plot(sj_time, sj_labels, label=\"Actual\")\n",
    "plt.xlabel(\"Time from 1990-2008\")\n",
    "plt.ylabel(\"Total Cases\")\n",
    "plt.title(\"Dengue Fever Cases in San Juan\")\n",
    "ax1.set_xticklabels([])\n",
    "plt.legend()\n"
   ]
  },
  {
   "cell_type": "code",
   "execution_count": null,
   "metadata": {
    "collapsed": true
   },
   "outputs": [],
   "source": [
    "fig2, ax2 = plt.subplots()\n",
    "\n",
    "plt.plot(iq_time, iq_sess.run(iq_predict, feed_dict={iq_x: iq_features, iq_keep_prob:1}), label=\"Predicted\")\n",
    "plt.plot(iq_time, iq_labels, label=\"Actual\")\n",
    "plt.xlabel(\"Time from 2000-2010\")\n",
    "plt.ylabel(\"Total Cases\")\n",
    "plt.title(\"Dengue Fever Cases in Iquitos\")\n",
    "ax2.set_xticklabels([])\n",
    "plt.legend()\n"
   ]
  },
  {
   "cell_type": "code",
   "execution_count": null,
   "metadata": {
    "collapsed": true
   },
   "outputs": [],
   "source": []
  }
 ],
 "metadata": {
  "kernelspec": {
   "display_name": "Python 3",
   "language": "python",
   "name": "python3"
  }
 },
 "nbformat": 4,
 "nbformat_minor": 2
}
