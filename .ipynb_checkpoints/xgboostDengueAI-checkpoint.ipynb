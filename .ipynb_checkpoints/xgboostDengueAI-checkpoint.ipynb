{
 "cells": [
  {
   "cell_type": "code",
   "execution_count": 1,
   "metadata": {},
   "outputs": [
    {
     "name": "stderr",
     "output_type": "stream",
     "text": [
      "/Users/Angus/anaconda/lib/python3.6/site-packages/sklearn/cross_validation.py:44: DeprecationWarning: This module was deprecated in version 0.18 in favor of the model_selection module into which all the refactored classes and functions are moved. Also note that the interface of the new CV iterators are different from that of this module. This module will be removed in 0.20.\n",
      "  \"This module will be removed in 0.20.\", DeprecationWarning)\n"
     ]
    }
   ],
   "source": [
    "%matplotlib inline\n",
    "import pandas as pd\n",
    "import numpy as np\n",
    "import tensorflow as tf\n",
    "from matplotlib import pyplot as plt\n",
    "from sklearn.model_selection import train_test_split\n",
    "from sklearn.metrics import mean_absolute_error\n",
    "from dengai import data_util\n",
    "from xgboost import XGBRegressor"
   ]
  },
  {
   "cell_type": "code",
   "execution_count": 2,
   "metadata": {
    "collapsed": true
   },
   "outputs": [],
   "source": [
    "from sklearn.model_selection import GridSearchCV, TimeSeriesSplit\n",
    "import xgboost as xgb"
   ]
  },
  {
   "cell_type": "code",
   "execution_count": 3,
   "metadata": {
    "collapsed": true
   },
   "outputs": [],
   "source": [
    "sj, iq = data_util.get_train_feature_label()\n",
    "\n",
    "sj_features = sj.drop([\"total_cases\"], axis=1)\n",
    "sj_labels = sj[[\"total_cases\"]]\n",
    "\n",
    "iq_features = iq.drop([\"total_cases\"], axis=1)\n",
    "iq_labels = iq[[\"total_cases\"]]\n"
   ]
  },
  {
   "cell_type": "markdown",
   "metadata": {},
   "source": [
    "San Juan Prediction\n",
    "---"
   ]
  },
  {
   "cell_type": "code",
   "execution_count": 4,
   "metadata": {},
   "outputs": [
    {
     "ename": "NameError",
     "evalue": "name 'ind_params' is not defined",
     "output_type": "error",
     "traceback": [
      "\u001b[0;31m---------------------------------------------------------------------------\u001b[0m",
      "\u001b[0;31mNameError\u001b[0m                                 Traceback (most recent call last)",
      "\u001b[0;32m<ipython-input-4-8c35fd831ec8>\u001b[0m in \u001b[0;36m<module>\u001b[0;34m()\u001b[0m\n\u001b[1;32m      2\u001b[0m sj_ind_params = {'learning_rate': 0.1, 'n_estimators': 200, 'seed':0, 'subsample': 0.8, 'colsample_bytree': 0.8, \n\u001b[1;32m      3\u001b[0m              'objective': 'count:poisson'}\n\u001b[0;32m----> 4\u001b[0;31m sj_optimized_GBM = GridSearchCV(xgb.XGBClassifier(**ind_params), \n\u001b[0m\u001b[1;32m      5\u001b[0m                              \u001b[0mcv_params\u001b[0m\u001b[0;34m,\u001b[0m\u001b[0;34m\u001b[0m\u001b[0m\n\u001b[1;32m      6\u001b[0m                              scoring = 'neg_mean_absolute_error', cv = 5, n_jobs = -1)\n",
      "\u001b[0;31mNameError\u001b[0m: name 'ind_params' is not defined"
     ]
    }
   ],
   "source": [
    "sj_cv_params = {'max_depth': [3,5,7], 'min_child_weight': [1,3]}\n",
    "sj_ind_params = {'learning_rate': 0.1, 'n_estimators': 200, 'seed':0, 'subsample': 0.8, 'colsample_bytree': 0.8, \n",
    "             'objective': 'count:poisson'}\n",
    "sj_optimized_GBM = GridSearchCV(xgb.XGBClassifier(**ind_params), \n",
    "                             cv_params, \n",
    "                             scoring = 'neg_mean_absolute_error', cv = 5, n_jobs = -1)"
   ]
  },
  {
   "cell_type": "code",
   "execution_count": null,
   "metadata": {
    "collapsed": true
   },
   "outputs": [],
   "source": [
    "row = sj_labels.values.shape[0]\n",
    "sj_labels = sj_labels.values.reshape(row,)"
   ]
  },
  {
   "cell_type": "code",
   "execution_count": 6,
   "metadata": {},
   "outputs": [
    {
     "data": {
      "text/plain": [
       "(933,)"
      ]
     },
     "execution_count": 6,
     "metadata": {},
     "output_type": "execute_result"
    }
   ],
   "source": [
    "sj_labels.shape\n",
    "#What is the difference between (933,) and (933,1)"
   ]
  },
  {
   "cell_type": "code",
   "execution_count": 7,
   "metadata": {
    "scrolled": true
   },
   "outputs": [
    {
     "name": "stderr",
     "output_type": "stream",
     "text": [
      "/Users/Angus/anaconda/lib/python3.6/site-packages/sklearn/model_selection/_split.py:581: Warning: The least populated class in y has only 1 members, which is too few. The minimum number of groups for any class cannot be less than n_splits=5.\n",
      "  % (min_groups, self.n_splits)), Warning)\n"
     ]
    },
    {
     "data": {
      "text/plain": [
       "GridSearchCV(cv=5, error_score='raise',\n",
       "       estimator=XGBClassifier(base_score=0.5, colsample_bylevel=1, colsample_bytree=0.8,\n",
       "       gamma=0, learning_rate=0.1, max_delta_step=0, max_depth=3,\n",
       "       min_child_weight=1, missing=None, n_estimators=200, nthread=-1,\n",
       "       objective='count:poisson', reg_alpha=0, reg_lambda=1,\n",
       "       scale_pos_weight=1, seed=0, silent=True, subsample=0.8),\n",
       "       fit_params={}, iid=True, n_jobs=-1,\n",
       "       param_grid={'max_depth': [3, 5, 7], 'min_child_weight': [1, 3]},\n",
       "       pre_dispatch='2*n_jobs', refit=True, return_train_score=True,\n",
       "       scoring='neg_mean_absolute_error', verbose=0)"
      ]
     },
     "execution_count": 7,
     "metadata": {},
     "output_type": "execute_result"
    }
   ],
   "source": [
    "sj_optimized_GBM.fit(sj_features, sj_labels)"
   ]
  },
  {
   "cell_type": "code",
   "execution_count": 8,
   "metadata": {},
   "outputs": [
    {
     "name": "stderr",
     "output_type": "stream",
     "text": [
      "/Users/Angus/anaconda/lib/python3.6/site-packages/sklearn/model_selection/_search.py:667: DeprecationWarning: The grid_scores_ attribute was deprecated in version 0.18 in favor of the more elaborate cv_results_ attribute. The grid_scores_ attribute will not be available from 0.20\n",
      "  DeprecationWarning)\n"
     ]
    },
    {
     "data": {
      "text/plain": [
       "[mean: -26.95606, std: 12.79975, params: {'max_depth': 3, 'min_child_weight': 1},\n",
       " mean: -25.78778, std: 13.81872, params: {'max_depth': 3, 'min_child_weight': 3},\n",
       " mean: -27.24866, std: 12.00586, params: {'max_depth': 5, 'min_child_weight': 1},\n",
       " mean: -25.84995, std: 13.98478, params: {'max_depth': 5, 'min_child_weight': 3},\n",
       " mean: -27.54770, std: 12.17846, params: {'max_depth': 7, 'min_child_weight': 1},\n",
       " mean: -25.79957, std: 13.85016, params: {'max_depth': 7, 'min_child_weight': 3}]"
      ]
     },
     "execution_count": 8,
     "metadata": {},
     "output_type": "execute_result"
    }
   ],
   "source": [
    "sj_optimized_GBM.grid_scores_"
   ]
  },
  {
   "cell_type": "code",
   "execution_count": 15,
   "metadata": {
    "collapsed": true
   },
   "outputs": [],
   "source": [
    "sj_cv_params = {'learning_rate': [0.1, 0.01], 'subsample': [0.6,0.8]}\n",
    "sj_ind_params = {'n_estimators': 200, 'seed':0, 'colsample_bytree': 0.8, \n",
    "             'objective': 'count:poisson', 'max_depth':3, 'min_child_weight':3}\n",
    "sj_optimized_GBM = GridSearchCV(xgb.XGBClassifier(**ind_params), \n",
    "                            cv_params, \n",
    "                             scoring = 'neg_mean_absolute_error', cv = 5, n_jobs = -1)"
   ]
  },
  {
   "cell_type": "code",
   "execution_count": 16,
   "metadata": {},
   "outputs": [
    {
     "name": "stderr",
     "output_type": "stream",
     "text": [
      "/Users/Angus/anaconda/lib/python3.6/site-packages/sklearn/model_selection/_split.py:581: Warning: The least populated class in y has only 1 members, which is too few. The minimum number of groups for any class cannot be less than n_splits=5.\n",
      "  % (min_groups, self.n_splits)), Warning)\n"
     ]
    },
    {
     "data": {
      "text/plain": [
       "GridSearchCV(cv=5, error_score='raise',\n",
       "       estimator=XGBClassifier(base_score=0.5, colsample_bylevel=1, colsample_bytree=0.8,\n",
       "       gamma=0, learning_rate=0.1, max_delta_step=0, max_depth=3,\n",
       "       min_child_weight=1, missing=None, n_estimators=200, nthread=-1,\n",
       "       objective='count:poisson', reg_alpha=0, reg_lambda=1,\n",
       "       scale_pos_weight=1, seed=0, silent=True, subsample=0.8),\n",
       "       fit_params={}, iid=True, n_jobs=-1,\n",
       "       param_grid={'max_depth': [3, 5, 7], 'min_child_weight': [1, 3]},\n",
       "       pre_dispatch='2*n_jobs', refit=True, return_train_score=True,\n",
       "       scoring='neg_mean_absolute_error', verbose=0)"
      ]
     },
     "execution_count": 16,
     "metadata": {},
     "output_type": "execute_result"
    }
   ],
   "source": [
    "sj_optimized_GBM.fit(sj_features, sj_labels)"
   ]
  },
  {
   "cell_type": "code",
   "execution_count": 17,
   "metadata": {},
   "outputs": [
    {
     "name": "stderr",
     "output_type": "stream",
     "text": [
      "/Users/Angus/anaconda/lib/python3.6/site-packages/sklearn/model_selection/_search.py:667: DeprecationWarning: The grid_scores_ attribute was deprecated in version 0.18 in favor of the more elaborate cv_results_ attribute. The grid_scores_ attribute will not be available from 0.20\n",
      "  DeprecationWarning)\n"
     ]
    },
    {
     "data": {
      "text/plain": [
       "[mean: -26.95606, std: 12.79975, params: {'max_depth': 3, 'min_child_weight': 1},\n",
       " mean: -25.78778, std: 13.81872, params: {'max_depth': 3, 'min_child_weight': 3},\n",
       " mean: -27.24866, std: 12.00586, params: {'max_depth': 5, 'min_child_weight': 1},\n",
       " mean: -25.84995, std: 13.98478, params: {'max_depth': 5, 'min_child_weight': 3},\n",
       " mean: -27.54770, std: 12.17846, params: {'max_depth': 7, 'min_child_weight': 1},\n",
       " mean: -25.79957, std: 13.85016, params: {'max_depth': 7, 'min_child_weight': 3}]"
      ]
     },
     "execution_count": 17,
     "metadata": {},
     "output_type": "execute_result"
    }
   ],
   "source": [
    "sj_optimized_GBM.grid_scores_"
   ]
  },
  {
   "cell_type": "code",
   "execution_count": 80,
   "metadata": {
    "collapsed": true
   },
   "outputs": [],
   "source": [
    "our_params = {'eta':0.1, 'seed':0, 'subsample': 0.6, 'colsample_bytree': 0.6, \n",
    "              'objective': 'count:poisson', 'max_depth':3, 'min_child_weight':3}\n",
    "\n",
    "xgdmat = xgb.DMatrix(sj_features, sj_labels)\n",
    "\n",
    "cv_xgb = xgb.cv(params = our_params, dtrain = xgdmat, num_boost_round = 1000, nfold = 5,\n",
    "                metrics = ['mae'], early_stopping_rounds = 100)"
   ]
  },
  {
   "cell_type": "code",
   "execution_count": 54,
   "metadata": {},
   "outputs": [
    {
     "data": {
      "text/html": [
       "<div>\n",
       "<style>\n",
       "    .dataframe thead tr:only-child th {\n",
       "        text-align: right;\n",
       "    }\n",
       "\n",
       "    .dataframe thead th {\n",
       "        text-align: left;\n",
       "    }\n",
       "\n",
       "    .dataframe tbody tr th {\n",
       "        vertical-align: top;\n",
       "    }\n",
       "</style>\n",
       "<table border=\"1\" class=\"dataframe\">\n",
       "  <thead>\n",
       "    <tr style=\"text-align: right;\">\n",
       "      <th></th>\n",
       "      <th>test-mae-mean</th>\n",
       "      <th>test-mae-std</th>\n",
       "      <th>train-mae-mean</th>\n",
       "      <th>train-mae-std</th>\n",
       "    </tr>\n",
       "  </thead>\n",
       "  <tbody>\n",
       "    <tr>\n",
       "      <th>58</th>\n",
       "      <td>23.484556</td>\n",
       "      <td>2.519810</td>\n",
       "      <td>22.999518</td>\n",
       "      <td>0.612721</td>\n",
       "    </tr>\n",
       "    <tr>\n",
       "      <th>59</th>\n",
       "      <td>23.427437</td>\n",
       "      <td>2.477928</td>\n",
       "      <td>22.890891</td>\n",
       "      <td>0.603635</td>\n",
       "    </tr>\n",
       "    <tr>\n",
       "      <th>60</th>\n",
       "      <td>23.334251</td>\n",
       "      <td>2.450471</td>\n",
       "      <td>22.803264</td>\n",
       "      <td>0.594927</td>\n",
       "    </tr>\n",
       "    <tr>\n",
       "      <th>61</th>\n",
       "      <td>23.314936</td>\n",
       "      <td>2.448203</td>\n",
       "      <td>22.727707</td>\n",
       "      <td>0.594223</td>\n",
       "    </tr>\n",
       "    <tr>\n",
       "      <th>62</th>\n",
       "      <td>23.290293</td>\n",
       "      <td>2.398299</td>\n",
       "      <td>22.672151</td>\n",
       "      <td>0.592834</td>\n",
       "    </tr>\n",
       "  </tbody>\n",
       "</table>\n",
       "</div>"
      ],
      "text/plain": [
       "    test-mae-mean  test-mae-std  train-mae-mean  train-mae-std\n",
       "58      23.484556      2.519810       22.999518       0.612721\n",
       "59      23.427437      2.477928       22.890891       0.603635\n",
       "60      23.334251      2.450471       22.803264       0.594927\n",
       "61      23.314936      2.448203       22.727707       0.594223\n",
       "62      23.290293      2.398299       22.672151       0.592834"
      ]
     },
     "execution_count": 54,
     "metadata": {},
     "output_type": "execute_result"
    }
   ],
   "source": [
    "cv_xgb.tail(5)"
   ]
  },
  {
   "cell_type": "code",
   "execution_count": 55,
   "metadata": {
    "collapsed": true
   },
   "outputs": [],
   "source": [
    "final_gb = xgb.train(our_params, xgdmat, num_boost_round = 65)"
   ]
  },
  {
   "cell_type": "code",
   "execution_count": 56,
   "metadata": {
    "collapsed": true
   },
   "outputs": [],
   "source": [
    "pred_sj_train = xgb.DMatrix(sj_features)\n",
    "pred_sj = final_gb.predict(pred_sj_train)"
   ]
  },
  {
   "cell_type": "code",
   "execution_count": 57,
   "metadata": {},
   "outputs": [
    {
     "data": {
      "image/png": "[encoded data removed]",
      "text/plain": [
       "<matplotlib.figure.Figure at 0x11a24ab38>"
      ]
     },
     "metadata": {},
     "output_type": "display_data"
    }
   ],
   "source": [
    "#SJ predicted vs actual\n",
    "plt.plot(pred_sj, label='predicted')\n",
    "plt.plot(sj_labels, label='actual')\n",
    "plt.legend(bbox_to_anchor=(1.05, 1), loc=2, borderaxespad=0.)\n",
    "plt.show()"
   ]
  },
  {
   "cell_type": "markdown",
   "metadata": {},
   "source": [
    "Iquitos Prediction\n",
    "---"
   ]
  },
  {
   "cell_type": "code",
   "execution_count": 31,
   "metadata": {
    "collapsed": true
   },
   "outputs": [],
   "source": [
    "iq_cv_params = {'max_depth': [3,5,7], 'min_child_weight': [1,3]}\n",
    "iq_ind_params = {'n_estimators': 200, 'seed':0, 'colsample_bytree': 0.8, \n",
    "             'objective': 'count:poisson', 'learning_rate': 0.1, 'subsample': 0.6}\n",
    "iq_optimized_GBM = GridSearchCV(xgb.XGBClassifier(**iq_ind_params), \n",
    "                            iq_cv_params, \n",
    "                             scoring = 'neg_mean_absolute_error', cv = 5, n_jobs = -1)"
   ]
  },
  {
   "cell_type": "code",
   "execution_count": 32,
   "metadata": {},
   "outputs": [
    {
     "ename": "AttributeError",
     "evalue": "'numpy.ndarray' object has no attribute 'values'",
     "output_type": "error",
     "traceback": [
      "\u001b[0;31m---------------------------------------------------------------------------\u001b[0m",
      "\u001b[0;31mAttributeError\u001b[0m                            Traceback (most recent call last)",
      "\u001b[0;32m<ipython-input-32-c1078060d8c4>\u001b[0m in \u001b[0;36m<module>\u001b[0;34m()\u001b[0m\n\u001b[0;32m----> 1\u001b[0;31m \u001b[0mrow\u001b[0m \u001b[0;34m=\u001b[0m \u001b[0miq_labels\u001b[0m\u001b[0;34m.\u001b[0m\u001b[0mvalues\u001b[0m\u001b[0;34m.\u001b[0m\u001b[0mshape\u001b[0m\u001b[0;34m[\u001b[0m\u001b[0;36m0\u001b[0m\u001b[0;34m]\u001b[0m\u001b[0;34m\u001b[0m\u001b[0m\n\u001b[0m\u001b[1;32m      2\u001b[0m \u001b[0miq_labels\u001b[0m \u001b[0;34m=\u001b[0m \u001b[0miq_labels\u001b[0m\u001b[0;34m.\u001b[0m\u001b[0mvalues\u001b[0m\u001b[0;34m.\u001b[0m\u001b[0mreshape\u001b[0m\u001b[0;34m(\u001b[0m\u001b[0mrow\u001b[0m\u001b[0;34m,\u001b[0m\u001b[0;34m)\u001b[0m\u001b[0;34m\u001b[0m\u001b[0m\n",
      "\u001b[0;31mAttributeError\u001b[0m: 'numpy.ndarray' object has no attribute 'values'"
     ]
    }
   ],
   "source": [
    "row = iq_labels.values.shape[0]\n",
    "iq_labels = iq_labels.values.reshape(row,)"
   ]
  },
  {
   "cell_type": "code",
   "execution_count": 33,
   "metadata": {},
   "outputs": [
    {
     "name": "stderr",
     "output_type": "stream",
     "text": [
      "/Users/Angus/anaconda/lib/python3.6/site-packages/sklearn/model_selection/_split.py:581: Warning: The least populated class in y has only 1 members, which is too few. The minimum number of groups for any class cannot be less than n_splits=5.\n",
      "  % (min_groups, self.n_splits)), Warning)\n"
     ]
    },
    {
     "data": {
      "text/plain": [
       "GridSearchCV(cv=5, error_score='raise',\n",
       "       estimator=XGBClassifier(base_score=0.5, colsample_bylevel=1, colsample_bytree=0.8,\n",
       "       gamma=0, learning_rate=0.1, max_delta_step=0, max_depth=3,\n",
       "       min_child_weight=1, missing=None, n_estimators=200, nthread=-1,\n",
       "       objective='count:poisson', reg_alpha=0, reg_lambda=1,\n",
       "       scale_pos_weight=1, seed=0, silent=True, subsample=0.6),\n",
       "       fit_params={}, iid=True, n_jobs=-1,\n",
       "       param_grid={'max_depth': [3, 5, 7], 'min_child_weight': [1, 3]},\n",
       "       pre_dispatch='2*n_jobs', refit=True, return_train_score=True,\n",
       "       scoring='neg_mean_absolute_error', verbose=0)"
      ]
     },
     "execution_count": 33,
     "metadata": {},
     "output_type": "execute_result"
    }
   ],
   "source": [
    "iq_optimized_GBM.fit(iq_features, iq_labels)"
   ]
  },
  {
   "cell_type": "code",
   "execution_count": 34,
   "metadata": {},
   "outputs": [
    {
     "name": "stderr",
     "output_type": "stream",
     "text": [
      "/Users/Angus/anaconda/lib/python3.6/site-packages/sklearn/model_selection/_search.py:667: DeprecationWarning: The grid_scores_ attribute was deprecated in version 0.18 in favor of the more elaborate cv_results_ attribute. The grid_scores_ attribute will not be available from 0.20\n",
      "  DeprecationWarning)\n"
     ]
    },
    {
     "data": {
      "text/plain": [
       "[mean: -6.74081, std: 2.29201, params: {'max_depth': 3, 'min_child_weight': 1},\n",
       " mean: -6.45648, std: 2.36701, params: {'max_depth': 3, 'min_child_weight': 3},\n",
       " mean: -6.69632, std: 1.93552, params: {'max_depth': 5, 'min_child_weight': 1},\n",
       " mean: -6.36170, std: 2.31364, params: {'max_depth': 5, 'min_child_weight': 3},\n",
       " mean: -6.72534, std: 1.95799, params: {'max_depth': 7, 'min_child_weight': 1},\n",
       " mean: -6.37524, std: 2.27294, params: {'max_depth': 7, 'min_child_weight': 3}]"
      ]
     },
     "execution_count": 34,
     "metadata": {},
     "output_type": "execute_result"
    }
   ],
   "source": [
    "iq_optimized_GBM.grid_scores_"
   ]
  },
  {
   "cell_type": "code",
   "execution_count": 35,
   "metadata": {
    "collapsed": true
   },
   "outputs": [],
   "source": [
    "iq_cv_params = {'learning_rate': [0.1, 0.01, 0.01], 'subsample': [0.6,0.8]}\n",
    "iq_ind_params = {'n_estimators': 200, 'seed':0, 'colsample_bytree': 0.8, \n",
    "             'objective': 'count:poisson', 'max_depth':3, 'min_child_weight':3}\n",
    "iq_optimized_GBM = GridSearchCV(xgb.XGBClassifier(**iq_ind_params), \n",
    "                            iq_cv_params, \n",
    "                             scoring = 'neg_mean_absolute_error', cv = 5, n_jobs = -1)"
   ]
  },
  {
   "cell_type": "code",
   "execution_count": 37,
   "metadata": {},
   "outputs": [
    {
     "name": "stderr",
     "output_type": "stream",
     "text": [
      "/Users/Angus/anaconda/lib/python3.6/site-packages/sklearn/model_selection/_split.py:581: Warning: The least populated class in y has only 1 members, which is too few. The minimum number of groups for any class cannot be less than n_splits=5.\n",
      "  % (min_groups, self.n_splits)), Warning)\n"
     ]
    },
    {
     "data": {
      "text/plain": [
       "GridSearchCV(cv=5, error_score='raise',\n",
       "       estimator=XGBClassifier(base_score=0.5, colsample_bylevel=1, colsample_bytree=0.8,\n",
       "       gamma=0, learning_rate=0.1, max_delta_step=0, max_depth=3,\n",
       "       min_child_weight=3, missing=None, n_estimators=200, nthread=-1,\n",
       "       objective='count:poisson', reg_alpha=0, reg_lambda=1,\n",
       "       scale_pos_weight=1, seed=0, silent=True, subsample=1),\n",
       "       fit_params={}, iid=True, n_jobs=-1,\n",
       "       param_grid={'learning_rate': [0.1, 0.01, 0.01], 'subsample': [0.6, 0.8]},\n",
       "       pre_dispatch='2*n_jobs', refit=True, return_train_score=True,\n",
       "       scoring='neg_mean_absolute_error', verbose=0)"
      ]
     },
     "execution_count": 37,
     "metadata": {},
     "output_type": "execute_result"
    }
   ],
   "source": [
    "iq_optimized_GBM.fit(iq_features, iq_labels)"
   ]
  },
  {
   "cell_type": "code",
   "execution_count": 39,
   "metadata": {},
   "outputs": [
    {
     "name": "stderr",
     "output_type": "stream",
     "text": [
      "/Users/Angus/anaconda/lib/python3.6/site-packages/sklearn/model_selection/_search.py:667: DeprecationWarning: The grid_scores_ attribute was deprecated in version 0.18 in favor of the more elaborate cv_results_ attribute. The grid_scores_ attribute will not be available from 0.20\n",
      "  DeprecationWarning)\n"
     ]
    },
    {
     "data": {
      "text/plain": [
       "[mean: -6.45648, std: 2.36701, params: {'learning_rate': 0.1, 'subsample': 0.6},\n",
       " mean: -6.48356, std: 2.28085, params: {'learning_rate': 0.1, 'subsample': 0.8},\n",
       " mean: -6.53578, std: 2.47292, params: {'learning_rate': 0.01, 'subsample': 0.6},\n",
       " mean: -6.49710, std: 2.45501, params: {'learning_rate': 0.01, 'subsample': 0.8},\n",
       " mean: -6.53578, std: 2.47292, params: {'learning_rate': 0.01, 'subsample': 0.6},\n",
       " mean: -6.49710, std: 2.45501, params: {'learning_rate': 0.01, 'subsample': 0.8}]"
      ]
     },
     "execution_count": 39,
     "metadata": {},
     "output_type": "execute_result"
    }
   ],
   "source": [
    "iq_optimized_GBM.grid_scores_"
   ]
  },
  {
   "cell_type": "code",
   "execution_count": 73,
   "metadata": {
    "collapsed": true
   },
   "outputs": [],
   "source": [
    "our_params = {'eta':0.1, 'seed':0, 'subsample': 0.8, 'colsample_bytree': 0.8, \n",
    "              'objective': 'count:poisson', 'max_depth':3, 'min_child_weight':1}\n",
    "\n",
    "xgdmat = xgb.DMatrix(iq_features, iq_labels)\n",
    "\n",
    "cv_xgb = xgb.cv(params = our_params, dtrain = xgdmat, num_boost_round = 1000, nfold = 5,\n",
    "                metrics = ['mae'], early_stopping_rounds = 100)"
   ]
  },
  {
   "cell_type": "code",
   "execution_count": 74,
   "metadata": {},
   "outputs": [
    {
     "data": {
      "text/html": [
       "<div>\n",
       "<style>\n",
       "    .dataframe thead tr:only-child th {\n",
       "        text-align: right;\n",
       "    }\n",
       "\n",
       "    .dataframe thead th {\n",
       "        text-align: left;\n",
       "    }\n",
       "\n",
       "    .dataframe tbody tr th {\n",
       "        vertical-align: top;\n",
       "    }\n",
       "</style>\n",
       "<table border=\"1\" class=\"dataframe\">\n",
       "  <thead>\n",
       "    <tr style=\"text-align: right;\">\n",
       "      <th></th>\n",
       "      <th>test-mae-mean</th>\n",
       "      <th>test-mae-std</th>\n",
       "      <th>train-mae-mean</th>\n",
       "      <th>train-mae-std</th>\n",
       "    </tr>\n",
       "  </thead>\n",
       "  <tbody>\n",
       "    <tr>\n",
       "      <th>33</th>\n",
       "      <td>5.862708</td>\n",
       "      <td>1.102655</td>\n",
       "      <td>5.662438</td>\n",
       "      <td>0.273650</td>\n",
       "    </tr>\n",
       "    <tr>\n",
       "      <th>34</th>\n",
       "      <td>5.848453</td>\n",
       "      <td>1.107822</td>\n",
       "      <td>5.622395</td>\n",
       "      <td>0.276744</td>\n",
       "    </tr>\n",
       "    <tr>\n",
       "      <th>35</th>\n",
       "      <td>5.834436</td>\n",
       "      <td>1.110518</td>\n",
       "      <td>5.585000</td>\n",
       "      <td>0.273161</td>\n",
       "    </tr>\n",
       "    <tr>\n",
       "      <th>36</th>\n",
       "      <td>5.825693</td>\n",
       "      <td>1.112737</td>\n",
       "      <td>5.552984</td>\n",
       "      <td>0.274701</td>\n",
       "    </tr>\n",
       "    <tr>\n",
       "      <th>37</th>\n",
       "      <td>5.817235</td>\n",
       "      <td>1.112992</td>\n",
       "      <td>5.527597</td>\n",
       "      <td>0.276930</td>\n",
       "    </tr>\n",
       "  </tbody>\n",
       "</table>\n",
       "</div>"
      ],
      "text/plain": [
       "    test-mae-mean  test-mae-std  train-mae-mean  train-mae-std\n",
       "33       5.862708      1.102655        5.662438       0.273650\n",
       "34       5.848453      1.107822        5.622395       0.276744\n",
       "35       5.834436      1.110518        5.585000       0.273161\n",
       "36       5.825693      1.112737        5.552984       0.274701\n",
       "37       5.817235      1.112992        5.527597       0.276930"
      ]
     },
     "execution_count": 74,
     "metadata": {},
     "output_type": "execute_result"
    }
   ],
   "source": [
    "cv_xgb.tail(5)"
   ]
  },
  {
   "cell_type": "code",
   "execution_count": 75,
   "metadata": {
    "collapsed": true
   },
   "outputs": [],
   "source": [
    "final_gb = xgb.train(our_params, xgdmat, num_boost_round = 46)"
   ]
  },
  {
   "cell_type": "code",
   "execution_count": 76,
   "metadata": {
    "collapsed": true
   },
   "outputs": [],
   "source": [
    "pred_iq_train = xgb.DMatrix(iq_features)\n",
    "pred_iq = final_gb.predict(pred_iq_train)"
   ]
  },
  {
   "cell_type": "code",
   "execution_count": 77,
   "metadata": {},
   "outputs": [
    {
     "data": {
      "image/png": "[encoded data removed]",
      "text/plain": [
       "<matplotlib.figure.Figure at 0x11a0f0b70>"
      ]
     },
     "metadata": {},
     "output_type": "display_data"
    }
   ],
   "source": [
    "#IQ predicted vs actual\n",
    "plt.plot(pred_iq, label='predicted')\n",
    "plt.plot(iq_labels, label='actual')\n",
    "plt.legend(bbox_to_anchor=(1.05, 1), loc=2, borderaxespad=0.)\n",
    "plt.show()"
   ]
  },
  {
   "cell_type": "code",
   "execution_count": null,
   "metadata": {
    "collapsed": true
   },
   "outputs": [],
   "source": []
  }
 ],
 "metadata": {
  "kernelspec": {
   "display_name": "Python 3",
   "language": "python",
   "name": "python3"
  },
  "language_info": {
   "codemirror_mode": {
    "name": "ipython",
    "version": 3
   },
   "file_extension": ".py",
   "mimetype": "text/x-python",
   "name": "python",
   "nbconvert_exporter": "python",
   "pygments_lexer": "ipython3",
   "version": "3.6.1"
  }
 },
 "nbformat": 4,
 "nbformat_minor": 2
}
